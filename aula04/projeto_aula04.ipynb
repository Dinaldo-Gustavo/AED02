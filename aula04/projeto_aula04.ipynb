{
 "cells": [
  {
   "cell_type": "code",
   "execution_count": 33,
   "id": "aae1a718-92a6-443f-9714-e53490bfe17c",
   "metadata": {},
   "outputs": [],
   "source": [
    "def busca_livro(titulo, lista_livros):\n",
    "    esquerda = 0\n",
    "    direita = len(lista_livros) - 1\n",
    "    while esquerda <= direita:\n",
    "        meio = (esquerda + direita) // 2\n",
    "        if titulo == lista_livros[meio][0]:\n",
    "            return print(lista_livros[meio][0], lista_livros[meio][1], lista_livros[meio][2])\n",
    "        elif titulo < lista_livros[meio][0]:\n",
    "            direita = meio - 1\n",
    "        else:\n",
    "            esquerda = meio + 1\n",
    "    return -1"
   ]
  },
  {
   "cell_type": "code",
   "execution_count": 34,
   "id": "47e6d3c8-c916-4e9e-ab82-7b5a7555ca90",
   "metadata": {},
   "outputs": [
    {
     "name": "stdout",
     "output_type": "stream",
     "text": [
      "1984 George Orwell 1949\n"
     ]
    }
   ],
   "source": [
    "livros = [ ('1984', 'George Orwell', \"1949\"),\n",
    "('A Arte da Guerra', 'Sun Tzu', 'Século V a.C.'),\n",
    "('A Divina Comédia', 'Dante Alighieri', \"1320\"),\n",
    "('Cem Anos de Solidão', 'Gabriel García Márquez', \"1967\"),\n",
    "('Crime e Castigo', 'Fiódor Dostoiévski', \"1866\"),\n",
    "('Dom Quixote', 'Miguel de Cervantes', \"1605\"),\n",
    "('Harry Potter e a Pedra Filosofal', 'J. K. Rowling', \"1997\"),\n",
    "('O Guia do Mochileiro das Galáxias', 'Douglas Adams', \"1979\"),\n",
    "('O Pequeno Príncipe', 'Antoine de Saint-Exupéry', \"1943\"),\n",
    "('O Senhor dos Anéis', 'J. R. R. Tolkien', \"1954\") ]\n",
    "\n",
    "busca_livro(\"1984\", livros)"
   ]
  },
  {
   "cell_type": "code",
   "execution_count": null,
   "id": "de3d32de-3b7c-4d0b-9c76-f67df9d3743f",
   "metadata": {},
   "outputs": [],
   "source": []
  }
 ],
 "metadata": {
  "kernelspec": {
   "display_name": "Python 3 (ipykernel)",
   "language": "python",
   "name": "python3"
  },
  "language_info": {
   "codemirror_mode": {
    "name": "ipython",
    "version": 3
   },
   "file_extension": ".py",
   "mimetype": "text/x-python",
   "name": "python",
   "nbconvert_exporter": "python",
   "pygments_lexer": "ipython3",
   "version": "3.13.5"
  }
 },
 "nbformat": 4,
 "nbformat_minor": 5
}
