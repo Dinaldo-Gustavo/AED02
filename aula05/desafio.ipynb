{
 "cells": [
  {
   "cell_type": "code",
   "execution_count": 5,
   "id": "11c5f69b-7050-4f4e-b206-838e6f7f4017",
   "metadata": {},
   "outputs": [],
   "source": [
    "class Pessoa:\n",
    "    def __init__(self, nome, idade):\n",
    "        self.__nome = nome\n",
    "        self.__idade = idade\n",
    "        \n",
    "    def fazer_aniversario(sefl):\n",
    "        self.__idade += 1\n",
    "\n",
    "    def __str__(self):\n",
    "        return f\"{self.__nome} - {self.__idade}\""
   ]
  },
  {
   "cell_type": "code",
   "execution_count": 7,
   "id": "2ed2a89d-41b0-48f5-93b1-fb276d18caf5",
   "metadata": {},
   "outputs": [
    {
     "name": "stdout",
     "output_type": "stream",
     "text": [
      "Carla - 20\n"
     ]
    }
   ],
   "source": [
    "print(Pessoa(\"Carla\", 20))"
   ]
  }
 ],
 "metadata": {
  "kernelspec": {
   "display_name": "Python 3 (ipykernel)",
   "language": "python",
   "name": "python3"
  },
  "language_info": {
   "codemirror_mode": {
    "name": "ipython",
    "version": 3
   },
   "file_extension": ".py",
   "mimetype": "text/x-python",
   "name": "python",
   "nbconvert_exporter": "python",
   "pygments_lexer": "ipython3",
   "version": "3.13.5"
  }
 },
 "nbformat": 4,
 "nbformat_minor": 5
}
