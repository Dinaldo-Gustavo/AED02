{
 "cells": [
  {
   "cell_type": "code",
   "execution_count": 56,
   "id": "4df78649-ff93-4b79-94d8-a970a1b38a5c",
   "metadata": {},
   "outputs": [
    {
     "name": "stdout",
     "output_type": "stream",
     "text": [
      "[2, 4, 3, 5, 5, 3, 3, 4, 7, 7]\n",
      "1\n",
      "8\n"
     ]
    }
   ],
   "source": [
    "from random import randint\n",
    "def busca_valor(lista, valor):\n",
    "    for i in range(len(lista)):\n",
    "        if lista[i] == valor:\n",
    "            return i\n",
    "    return -1\n",
    "def busca(lista, valor):\n",
    "    flag = 0\n",
    "    while flag < len(lista):\n",
    "        if lista[flag] == valor:\n",
    "            return flag\n",
    "        flag += 1\n",
    "    return -1\n",
    "l = [randint(1, 10), randint(1, 10), randint(1, 10), randint(1, 10), randint(1, 10), \n",
    "         randint(1, 10), randint(1, 10), randint(1, 10), randint(1, 10), randint(1, 10)]\n",
    "print(l)\n",
    "print(busca_valor(l, 4))\n",
    "print(busca(l, 7))"
   ]
  },
  {
   "cell_type": "code",
   "execution_count": 3,
   "id": "798cc9d2-ee5e-45fa-a729-86a37ffd2afb",
   "metadata": {},
   "outputs": [
    {
     "data": {
      "text/plain": [
       "1"
      ]
     },
     "execution_count": 3,
     "metadata": {},
     "output_type": "execute_result"
    }
   ],
   "source": [
    "l = [randint(1, 10), randint(1, 10), randint(1, 10), randint(1, 10), randint(1, 10), \n",
    "         randint(1, 10), randint(1, 10), randint(1, 10), randint(1, 10), randint(1, 10)]\n",
    "def minimo(lista):\n",
    "    menor = lista[0]\n",
    "    for i in range(1, len(lista)):\n",
    "        if lista[i] < menor:\n",
    "            menor = lista[i]\n",
    "    return menor\n",
    "minimo(l)"
   ]
  },
  {
   "cell_type": "code",
   "execution_count": 6,
   "id": "a18f95f6-5f7a-402d-b5ac-20ec01eef556",
   "metadata": {},
   "outputs": [],
   "source": [
    "def buscar_clientes(nome, lista_clientes):\n",
    "    for i in range(len(lista_clientes)):\n",
    "        if nome == lista_clientes[i]:\n",
    "            return i\n",
    "    return -1"
   ]
  },
  {
   "cell_type": "code",
   "execution_count": 7,
   "id": "d188d970-2394-471e-9870-d9c7cdc27450",
   "metadata": {},
   "outputs": [],
   "source": [
    "clientes = [\n",
    "    \"Alice\", \"Bob\", \"Charlie\", \"David\", \"Eva\", \n",
    "    \"Frank\", \"Grace\", \"Heidi\", \"Ivan\", \"Judy\",\n",
    "    \"Michael\", \"Sarah\", \"Pedro\", \"João\", \"Maria\",\n",
    "    \"Lucas\", \"Mariana\", \"Ana\", \"Carlos\", \"Isabela\"\n",
    "]"
   ]
  },
  {
   "cell_type": "code",
   "execution_count": 18,
   "id": "887ba8a4-67d2-4bff-aa69-62b83377e8bf",
   "metadata": {},
   "outputs": [
    {
     "name": "stdin",
     "output_type": "stream",
     "text": [
      "Digite 's' para sair ou 'c' para continuar c\n",
      "Digite um nome:  bob\n"
     ]
    },
    {
     "name": "stdout",
     "output_type": "stream",
     "text": [
      "O nome foi encontrado na posição 1\n"
     ]
    },
    {
     "name": "stdin",
     "output_type": "stream",
     "text": [
      "Digite 's' para sair ou 'c' para continuar c\n",
      "Digite um nome:  s\n"
     ]
    },
    {
     "name": "stdout",
     "output_type": "stream",
     "text": [
      "Nome não encontrado\n"
     ]
    }
   ],
   "source": [
    "i = 0\n",
    "while i != -1:\n",
    "    opcao = input(\"Digite 's' para sair ou 'c' para continuar\").lower()\n",
    "    if opcao != 'c':\n",
    "        break\n",
    "    n = input(\"Digite um nome: \").capitalize()\n",
    "    i = buscar_clientes(n, clientes)\n",
    "    if i == -1:\n",
    "        print(\"Nome não encontrado\")\n",
    "    else:\n",
    "        print(f\"O nome foi encontrado na posição {i}\")"
   ]
  },
  {
   "cell_type": "markdown",
   "id": "31531f0c-c1e5-4120-a4ac-2a5db3e5455b",
   "metadata": {},
   "source": [
    "## PROJETO 2"
   ]
  },
  {
   "cell_type": "code",
   "execution_count": 32,
   "id": "071a7afe-1c6d-476c-93ab-3aca0e63824a",
   "metadata": {},
   "outputs": [],
   "source": [
    "def busca_convidados(nome, lista):\n",
    "    for indice in range(len(lista)):\n",
    "        if nome == lista[indice]:\n",
    "            return \"\\033[92m Sim, esse nome está na lista. Tenha uma boa festa!\"\n",
    "    return \"\\033[91m Não, esse nome não está na lista\""
   ]
  },
  {
   "cell_type": "code",
   "execution_count": 33,
   "id": "f9f76766-8bde-4402-a995-4189564d4bac",
   "metadata": {},
   "outputs": [],
   "source": [
    "convidados = [\n",
    "    \"Ana\", \"João\", \"Maria\", \"Pedro\", \"Lucas\", \"Mariana\", \"Gabriel\", \"Isabela\",\n",
    "    \"Rafael\", \"Larissa\", \"Mateus\", \"Amanda\", \"Gustavo\", \"Julia\", \"Felipe\",\n",
    "    \"Beatriz\", \"Daniel\", \"Carolina\", \"Thiago\", \"Camila\", \"Bruno\", \"Leticia\",\n",
    "    \"Leonardo\", \"Gabriela\", \"Vitor\", \"Manuela\", \"Eduardo\", \"Sophia\", \"Rodrigo\",\n",
    "    \"Luisa\", \"Guilherme\", \"Valentina\", \"Alexandre\", \"Laura\", \"Henrique\", \"Alice\",\n",
    "    \"Fernando\", \"Clara\", \"André\", \"Bianca\", \"Marcelo\", \"Helena\", \"Diego\", \"Nicole\",\n",
    "    \"Arthur\", \"Mariana\", \"Thiago\", \"Letícia\", \"Lucas\", \"Julia\", \"Fernanda\",\n",
    "    \"Carlos\", \"Sofia\", \"Ricardo\", \"Emilly\", \"Cauã\", \"Lara\", \"Hugo\", \"Isadora\",\n",
    "    \"Daniel\", \"Marina\", \"Enzo\", \"Yasmin\", \"Pedro\", \"Bruna\", \"Vinicius\", \"Giovanna\"\n",
    "]"
   ]
  },
  {
   "cell_type": "code",
   "execution_count": null,
   "id": "60c563c1-8771-47cc-9b9c-6df114daf220",
   "metadata": {},
   "outputs": [
    {
     "name": "stdin",
     "output_type": "stream",
     "text": [
      "Digite um nome e veja se ele esta na lista:  lucas\n"
     ]
    },
    {
     "name": "stdout",
     "output_type": "stream",
     "text": [
      "\u001b[92m Sim, esse nome está na lista. Tenha uma boa festa!\n"
     ]
    }
   ],
   "source": [
    "while True:\n",
    "    n = input(\"Digite um nome e veja se ele esta na lista: \").capitalize()\n",
    "    print(busca_convidados(n, convidados))\n",
    "    sair = input(\"Digite 's' para sair ou qualquer outra tecla para continuar\")\n",
    "    if sair == 's':\n",
    "        break"
   ]
  },
  {
   "cell_type": "code",
   "execution_count": null,
   "id": "2cd7f81e-f249-4fcd-91cf-ba62458f5c32",
   "metadata": {},
   "outputs": [],
   "source": []
  }
 ],
 "metadata": {
  "kernelspec": {
   "display_name": "Python 3 (ipykernel)",
   "language": "python",
   "name": "python3"
  },
  "language_info": {
   "codemirror_mode": {
    "name": "ipython",
    "version": 3
   },
   "file_extension": ".py",
   "mimetype": "text/x-python",
   "name": "python",
   "nbconvert_exporter": "python",
   "pygments_lexer": "ipython3",
   "version": "3.13.5"
  }
 },
 "nbformat": 4,
 "nbformat_minor": 5
}
