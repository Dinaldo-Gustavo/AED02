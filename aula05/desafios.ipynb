{
 "cells": [
  {
   "cell_type": "code",
   "execution_count": 5,
   "id": "11c5f69b-7050-4f4e-b206-838e6f7f4017",
   "metadata": {},
   "outputs": [],
   "source": [
    "class Pessoa:\n",
    "    def __init__(self, nome, idade):\n",
    "        self.__nome = nome\n",
    "        self.__idade = idade\n",
    "        \n",
    "    def fazer_aniversario(self):\n",
    "        self.__idade += 1\n",
    "\n",
    "    def __str__(self):\n",
    "        return f\"{self.__nome} - {self.__idade}\""
   ]
  },
  {
   "cell_type": "code",
   "execution_count": 7,
   "id": "2ed2a89d-41b0-48f5-93b1-fb276d18caf5",
   "metadata": {},
   "outputs": [
    {
     "name": "stdout",
     "output_type": "stream",
     "text": [
      "Carla - 20\n"
     ]
    }
   ],
   "source": [
    "print(Pessoa(\"Carla\", 20))"
   ]
  },
  {
   "cell_type": "code",
   "execution_count": 5,
   "id": "06086806-98d6-47c2-8db1-ed6c724f4f8f",
   "metadata": {},
   "outputs": [
    {
     "name": "stdout",
     "output_type": "stream",
     "text": [
      "Collecting passlib\n",
      "  Downloading passlib-1.7.4-py2.py3-none-any.whl (525 kB)\n",
      "Installing collected packages: passlib\n",
      "Successfully installed passlib-1.7.4\n"
     ]
    }
   ],
   "source": [
    "import sys\n",
    "!{sys.executable} -m pip install passlib"
   ]
  },
  {
   "cell_type": "code",
   "execution_count": 21,
   "id": "d36f6809-f120-4491-baa6-b10834cb0f8c",
   "metadata": {},
   "outputs": [],
   "source": [
    "from passlib.hash import pbkdf2_sha256 as cryp\n",
    "\n",
    "class Usuario:\n",
    "    def __init__(self, nome, sobrenome, email, senha):\n",
    "        self.__nome = nome\n",
    "        self.__sobrenome = sobrenome\n",
    "        self.__email = email\n",
    "        self.__senha = senha\n",
    "        self.__senha = cryp.encrypt(senha, rounds=1000, salt_size=10)\n",
    "\n",
    "    def get_nome(self):\n",
    "        return self.__nome\n",
    "\n",
    "    def get_sobrenome(self):\n",
    "        return self.__sobrenome\n",
    "\n",
    "    def get_email(self):\n",
    "        return self.__email\n",
    "\n",
    "    def get_senha(self):\n",
    "        return self.__senha\n",
    "\n",
    "    def nome_completo(self):\n",
    "        return f'{self.__nome} + {self.__sobrenome}'\n",
    "\n",
    "    def checa_senha(self, senha):\n",
    "        if cryp.verify(senha, self.__senha):\n",
    "            return True\n",
    "        return False"
   ]
  },
  {
   "cell_type": "code",
   "execution_count": 23,
   "id": "4ac41cb0-b432-4a13-9c2a-5f6567ef2c62",
   "metadata": {},
   "outputs": [
    {
     "name": "stdin",
     "output_type": "stream",
     "text": [
      "Nome:  Dinaldo\n",
      "Sobrenome:  Gustavo\n",
      "Email:  p\n",
      "Senha:  321123\n",
      "Confirme a senha:  321123\n"
     ]
    },
    {
     "name": "stderr",
     "output_type": "stream",
     "text": [
      "C:\\Users\\gusta\\anaconda3\\envs\\py365\\lib\\site-packages\\ipykernel_launcher.py:9: DeprecationWarning: the method passlib.handlers.pbkdf2.pbkdf2_sha256.encrypt() is deprecated as of Passlib 1.7, and will be removed in Passlib 2.0, use .hash() instead.\n",
      "  if __name__ == '__main__':\n"
     ]
    },
    {
     "name": "stdout",
     "output_type": "stream",
     "text": [
      "Usuário Criado com Sucesso!!!\n"
     ]
    },
    {
     "name": "stdin",
     "output_type": "stream",
     "text": [
      "Informe a senha para acesso:  321123\n"
     ]
    },
    {
     "name": "stdout",
     "output_type": "stream",
     "text": [
      "Acesso permitido!\n"
     ]
    }
   ],
   "source": [
    "while True:    \n",
    "    nome = input(\"Nome: \")\n",
    "    sobrenome = input(\"Sobrenome: \")\n",
    "    email = input(\"Email: \")\n",
    "    senha = input(\"Senha: \")\n",
    "    confirma_senha = input(\"Confirme a senha: \")\n",
    "    if senha == confirma_senha:\n",
    "        pessoa = Usuario(nome, sobrenome, email, senha)\n",
    "        break\n",
    "    else:\n",
    "        print(\"Senha não confere...\")\n",
    "        \n",
    "print(\"Usuário Criado com Sucesso!!!\")\n",
    "senha = input(\"Informe a senha para acesso: \")\n",
    "if pessoa.checa_senha(senha):\n",
    "    print(\"Acesso permitido!\")\n",
    "else:\n",
    "    print(\"Acesso negado!\")"
   ]
  },
  {
   "cell_type": "code",
   "execution_count": null,
   "id": "d9b6926a-0de2-458d-bb62-2dc920e7456b",
   "metadata": {},
   "outputs": [],
   "source": []
  }
 ],
 "metadata": {
  "kernelspec": {
   "display_name": "Python 3.6.5",
   "language": "python",
   "name": "py365"
  },
  "language_info": {
   "codemirror_mode": {
    "name": "ipython",
    "version": 3
   },
   "file_extension": ".py",
   "mimetype": "text/x-python",
   "name": "python",
   "nbconvert_exporter": "python",
   "pygments_lexer": "ipython3",
   "version": "3.6.5"
  }
 },
 "nbformat": 4,
 "nbformat_minor": 5
}
