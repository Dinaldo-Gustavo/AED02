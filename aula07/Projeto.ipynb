{
 "cells": [
  {
   "cell_type": "code",
   "execution_count": 13,
   "id": "af11449c-9a4b-42a6-888c-bfbe13775f80",
   "metadata": {},
   "outputs": [],
   "source": [
    "# Implementação da classe Fila\n",
    "class Queue:\n",
    "    # Inicia com uma fila vazia\n",
    "    def __init__(self):\n",
    "        self.itens = []\n",
    "        \n",
    "    # Verifica se fila está vazia\n",
    "    def is_empty(self):\n",
    "        return self.itens == []\n",
    "        \n",
    "    # Adiciona elemento no início da fila\n",
    "    def enqueue(self, item):\n",
    "        self.itens.insert(0, item)\n",
    "        print('ENQUEUE %s' %item)\n",
    "        \n",
    "    # Remove elemento do final da fila\n",
    "    def dequeue(self):\n",
    "        print('DEQUEUE')\n",
    "        return self.itens.pop()\n",
    "        \n",
    "    # Retorna o número de elementos da fila\n",
    "    def size(self):\n",
    "        return len(self.itens)\n",
    "        \n",
    "    # Imprime a fila na tela\n",
    "    def print_queue(self):\n",
    "        print(self.itens)"
   ]
  },
  {
   "cell_type": "code",
   "execution_count": 21,
   "id": "3d574fa0-f05b-4d5d-95db-aa2cdfa640b7",
   "metadata": {},
   "outputs": [],
   "source": [
    "def atendimento(clientes):\n",
    "    fila = Queue()\n",
    "\n",
    "    for cliente in clientes:\n",
    "        fila.enqueue(cliente)\n",
    "\n",
    "    filas = 0\n",
    "    while not fila.is_empty():\n",
    "        if filas == 3:\n",
    "            print(\"PAUSA: Adicionando novos clientes.\")\n",
    "            fila.enqueue(\"Novo cliente 1\")\n",
    "            fila.enqueue(\"Novo cliente 2\")\n",
    "            filas = 0\n",
    "\n",
    "        print(f\"Atendendo: {fila.dequeue()}\")\n",
    "        filas += 1"
   ]
  },
  {
   "cell_type": "code",
   "execution_count": 22,
   "id": "4f8a6464-bcc7-4205-bfd5-aebcd780ad33",
   "metadata": {},
   "outputs": [],
   "source": [
    "clientes = [\"paula\", \"bruno\", \"ricardo\", \"josé\", \"alberto\"]"
   ]
  },
  {
   "cell_type": "code",
   "execution_count": 23,
   "id": "ce33ce60-c7bd-4c4c-ab53-dc9c699e15c5",
   "metadata": {},
   "outputs": [
    {
     "name": "stdout",
     "output_type": "stream",
     "text": [
      "ENQUEUE paula\n",
      "ENQUEUE bruno\n",
      "ENQUEUE ricardo\n",
      "ENQUEUE josé\n",
      "ENQUEUE alberto\n",
      "DEQUEUE\n",
      "Atendendo: paula\n",
      "DEQUEUE\n",
      "Atendendo: bruno\n",
      "DEQUEUE\n",
      "Atendendo: ricardo\n",
      "PAUSA: Adicionando novos clientes.\n",
      "ENQUEUE Novo cliente 1\n",
      "ENQUEUE Novo cliente 2\n",
      "DEQUEUE\n",
      "Atendendo: josé\n",
      "DEQUEUE\n",
      "Atendendo: alberto\n",
      "DEQUEUE\n",
      "Atendendo: Novo cliente 1\n",
      "PAUSA: Adicionando novos clientes.\n",
      "ENQUEUE Novo cliente 1\n",
      "ENQUEUE Novo cliente 2\n",
      "DEQUEUE\n",
      "Atendendo: Novo cliente 2\n",
      "DEQUEUE\n",
      "Atendendo: Novo cliente 1\n",
      "DEQUEUE\n",
      "Atendendo: Novo cliente 2\n"
     ]
    }
   ],
   "source": [
    "atendimento(clientes)"
   ]
  },
  {
   "cell_type": "code",
   "execution_count": 31,
   "id": "6b4497a5-7616-4221-a5be-84836b5f8708",
   "metadata": {},
   "outputs": [],
   "source": [
    " # Utilização da classe Queue para controle de pedidos\n",
    " def controle_pedidos(pedidos, num_processados):\n",
    "     fila = Queue()\n",
    " # Adicionando os pedidos iniciais na fila\n",
    "     for pedido in pedidos:\n",
    "         fila.enqueue(pedido)\n",
    "         pedidos_processados = 0\n",
    " # Processamento de pedidos\n",
    "         while pedidos_processados < num_processados:\n",
    " # Processa o pedido no início da fila\n",
    "             print(f\"Processando pedido: {fila.dequeue()}\")\n",
    "             pedidos_processados += 1\n",
    " # Adicionando um novo pedido\n",
    "             novo_pedido = f\"Pedido {pedidos_processados + len(pedidos)}\"\n",
    "             fila.enqueue(novo_pedido)\n",
    "             print(f\"Novo pedido adicionado: {novo_pedido}\")"
   ]
  },
  {
   "cell_type": "code",
   "execution_count": 34,
   "id": "02ada101-1887-46f1-abf0-7cc82b1b3f6c",
   "metadata": {},
   "outputs": [
    {
     "name": "stdout",
     "output_type": "stream",
     "text": [
      "ENQUEUE Pedido 1\n",
      "DEQUEUE\n",
      "Processando pedido: Pedido 1\n",
      "ENQUEUE Pedido 4\n",
      "Novo pedido adicionado: Pedido 4\n",
      "DEQUEUE\n",
      "Processando pedido: Pedido 4\n",
      "ENQUEUE Pedido 5\n",
      "Novo pedido adicionado: Pedido 5\n",
      "DEQUEUE\n",
      "Processando pedido: Pedido 5\n",
      "ENQUEUE Pedido 6\n",
      "Novo pedido adicionado: Pedido 6\n",
      "DEQUEUE\n",
      "Processando pedido: Pedido 6\n",
      "ENQUEUE Pedido 7\n",
      "Novo pedido adicionado: Pedido 7\n",
      "DEQUEUE\n",
      "Processando pedido: Pedido 7\n",
      "ENQUEUE Pedido 8\n",
      "Novo pedido adicionado: Pedido 8\n",
      "ENQUEUE Pedido 2\n",
      "DEQUEUE\n",
      "Processando pedido: Pedido 8\n",
      "ENQUEUE Pedido 4\n",
      "Novo pedido adicionado: Pedido 4\n",
      "DEQUEUE\n",
      "Processando pedido: Pedido 2\n",
      "ENQUEUE Pedido 5\n",
      "Novo pedido adicionado: Pedido 5\n",
      "DEQUEUE\n",
      "Processando pedido: Pedido 4\n",
      "ENQUEUE Pedido 6\n",
      "Novo pedido adicionado: Pedido 6\n",
      "DEQUEUE\n",
      "Processando pedido: Pedido 5\n",
      "ENQUEUE Pedido 7\n",
      "Novo pedido adicionado: Pedido 7\n",
      "DEQUEUE\n",
      "Processando pedido: Pedido 6\n",
      "ENQUEUE Pedido 8\n",
      "Novo pedido adicionado: Pedido 8\n",
      "ENQUEUE Pedido 3\n",
      "DEQUEUE\n",
      "Processando pedido: Pedido 7\n",
      "ENQUEUE Pedido 4\n",
      "Novo pedido adicionado: Pedido 4\n",
      "DEQUEUE\n",
      "Processando pedido: Pedido 8\n",
      "ENQUEUE Pedido 5\n",
      "Novo pedido adicionado: Pedido 5\n",
      "DEQUEUE\n",
      "Processando pedido: Pedido 3\n",
      "ENQUEUE Pedido 6\n",
      "Novo pedido adicionado: Pedido 6\n",
      "DEQUEUE\n",
      "Processando pedido: Pedido 4\n",
      "ENQUEUE Pedido 7\n",
      "Novo pedido adicionado: Pedido 7\n",
      "DEQUEUE\n",
      "Processando pedido: Pedido 5\n",
      "ENQUEUE Pedido 8\n",
      "Novo pedido adicionado: Pedido 8\n"
     ]
    }
   ],
   "source": [
    "pedidos_iniciais = ['Pedido 1', 'Pedido 2', 'Pedido 3']\n",
    "controle_pedidos(pedidos_iniciais, 5)"
   ]
  },
  {
   "cell_type": "code",
   "execution_count": null,
   "id": "b7e8a594-7483-4946-a977-41568c0d9964",
   "metadata": {},
   "outputs": [],
   "source": []
  }
 ],
 "metadata": {
  "kernelspec": {
   "display_name": "Python 3 (ipykernel)",
   "language": "python",
   "name": "python3"
  },
  "language_info": {
   "codemirror_mode": {
    "name": "ipython",
    "version": 3
   },
   "file_extension": ".py",
   "mimetype": "text/x-python",
   "name": "python",
   "nbconvert_exporter": "python",
   "pygments_lexer": "ipython3",
   "version": "3.13.5"
  }
 },
 "nbformat": 4,
 "nbformat_minor": 5
}
